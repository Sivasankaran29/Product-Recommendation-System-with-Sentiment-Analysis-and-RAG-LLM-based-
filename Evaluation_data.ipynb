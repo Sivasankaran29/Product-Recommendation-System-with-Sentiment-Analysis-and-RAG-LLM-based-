{
 "cells": [
  {
   "cell_type": "code",
   "execution_count": null,
   "id": "5894105b-4612-40dd-a1a3-3ac568afd78c",
   "metadata": {},
   "outputs": [],
   "source": [
    "import pandas as pd\n",
    "from textblob import TextBlob\n",
    "\n",
    "# === Load original data ===\n",
    "df = pd.read_csv(\"D:/flipkart_recommendation/data/final_processed_reviews.csv\")\n",
    "\n",
    "# === Sample 100 reviews ===\n",
    "sample_df = df[[\"review_text\"]].dropna().sample(n=100, random_state=42).copy()\n",
    "\n",
    "# === Generate true_sentiment using TextBlob (can manually edit later) ===\n",
    "def get_sentiment_label(text):\n",
    "    polarity = TextBlob(str(text)).sentiment.polarity\n",
    "    if polarity > 0.1:\n",
    "        return \"positive\"\n",
    "    elif polarity < -0.1:\n",
    "        return \"negative\"\n",
    "    else:\n",
    "        return \"neutral\"\n",
    "\n",
    "sample_df[\"true_sentiment\"] = sample_df[\"review_text\"].apply(get_sentiment_label)\n",
    "\n",
    "# === Save for evaluation ===\n",
    "sample_df.to_csv(\"D:/flipkart_recommendation/data/sentiment_test_labeled.csv\", index=False)\n",
    "print(\"✅ File saved: sentiment_test_labeled.csv with 100 labeled reviews.\")"
   ]
  }
 ],
 "metadata": {
  "kernelspec": {
   "display_name": "Python 3 (ipykernel)",
   "language": "python",
   "name": "python3"
  },
  "language_info": {
   "codemirror_mode": {
    "name": "ipython",
    "version": 3
   },
   "file_extension": ".py",
   "mimetype": "text/x-python",
   "name": "python",
   "nbconvert_exporter": "python",
   "pygments_lexer": "ipython3",
   "version": "3.11.7"
  }
 },
 "nbformat": 4,
 "nbformat_minor": 5
}
